{
  "cells": [
    {
      "cell_type": "markdown",
      "metadata": {
        "id": "view-in-github",
        "colab_type": "text"
      },
      "source": [
        "<a href=\"https://colab.research.google.com/github/ziqiandi/509-text-classification/blob/main/lgcv.ipynb\" target=\"_parent\"><img src=\"https://colab.research.google.com/assets/colab-badge.svg\" alt=\"Open In Colab\"/></a>"
      ]
    },
    {
      "cell_type": "code",
      "execution_count": null,
      "metadata": {
        "id": "cZO6OxVZEBgB"
      },
      "outputs": [],
      "source": [
        "import numpy as np\n",
        "import pandas as pd\n",
        "import matplotlib.pyplot as plt\n",
        "from tqdm import tqdm\n",
        "import pickle"
      ]
    },
    {
      "cell_type": "code",
      "execution_count": null,
      "metadata": {
        "id": "oCoo7TpBEBgP"
      },
      "outputs": [],
      "source": [
        "from sklearn.feature_extraction.text import CountVectorizer\n",
        "from sklearn.feature_extraction.text import TfidfVectorizer\n",
        "from sklearn.linear_model import RidgeClassifier\n",
        "from sklearn import linear_model\n",
        "from sklearn.metrics import f1_score"
      ]
    },
    {
      "cell_type": "code",
      "execution_count": null,
      "metadata": {
        "id": "bVTkTRudEBgQ"
      },
      "outputs": [],
      "source": [
        "from sklearn.preprocessing import LabelEncoder \n",
        "file = '/Users/jessiding/Downloads/SIData2022.csv'\n",
        "df = pd.read_csv(file)\n",
        "le=LabelEncoder()\n",
        "df['label']=le.fit_transform(df['label'])"
      ]
    },
    {
      "cell_type": "code",
      "execution_count": null,
      "metadata": {
        "id": "2UsrNYWpEBgQ",
        "outputId": "5ad74865-69f6-4fa2-8e20-dc9e290503b9"
      },
      "outputs": [
        {
          "data": {
            "text/plain": [
              "5126"
            ]
          },
          "execution_count": 33,
          "metadata": {},
          "output_type": "execute_result"
        }
      ],
      "source": [
        "len(df)"
      ]
    },
    {
      "cell_type": "code",
      "execution_count": null,
      "metadata": {
        "scrolled": true,
        "id": "Zx7SyBUFEBgS"
      },
      "outputs": [],
      "source": [
        "from nltk.tokenize import sent_tokenize\n",
        "from nltk import word_tokenize\n",
        "import nltk\n",
        "from nltk.corpus import stopwords\n",
        "import string\n",
        "def processing_sentence(x, stop_words):\n",
        "    cut_word = nltk.sent_tokenize(x)\n",
        "    words = word_tokenize(x)\n",
        "    english_punctuations = [',', '.', ':', ';', '?', '(', ')', '[', ']', '&', '!', '*', '@', '#', '$', '%']\n",
        "    word = [word for word in words if word not in stop_words and word not in english_punctuations and word != ' ']\n",
        "    return ' '.join(word)\n",
        "\n",
        "from sklearn.model_selection import train_test_split\n",
        "x_train, x_test, y_train, y_test = train_test_split(df['content'], df['label'], test_size=0.2, stratify=df['label'])\n",
        "stop_words = stopwords.words(\"english\")\n",
        "x_train = x_train.apply(lambda x: processing_sentence(x, stop_words))\n",
        "x_test = x_test.apply(lambda x: processing_sentence(x, stop_words))\n"
      ]
    },
    {
      "cell_type": "code",
      "execution_count": null,
      "metadata": {
        "id": "jK6OJBu5EBgS",
        "outputId": "c87de192-aa43-4e5f-db6c-60f7eb1f5ef9"
      },
      "outputs": [
        {
          "data": {
            "text/plain": [
              "3318    Patient brought OR wound vac take abdominal cl...\n",
              "3067    Patient complained sialorrhea 8/3 per supervis...\n",
              "137     Pt soiled self Changed linen gown two nurses c...\n",
              "1597    Pt became agitated stated wanted go home BRT c...\n",
              "4055    upon assessment pt stated chronic pressure ulc...\n",
              "                              ...                        \n",
              "2640    Pt admitted 5C full thickness lesions sacrococ...\n",
              "535     Sedation medication titrated patient became re...\n",
              "2562    As I trying orally suction patient give nebuli...\n",
              "3583    While shift change I noticed blood transfusion...\n",
              "4376    Expired penicillin found pharmacy freezer sinc...\n",
              "Name: content, Length: 4100, dtype: object"
            ]
          },
          "execution_count": 52,
          "metadata": {},
          "output_type": "execute_result"
        }
      ],
      "source": [
        "x_train"
      ]
    },
    {
      "cell_type": "code",
      "execution_count": null,
      "metadata": {
        "id": "7qUyoQf0EBgT"
      },
      "outputs": [],
      "source": [
        "x=df['content'].apply(lambda x: processing_sentence(x, stop_words))"
      ]
    },
    {
      "cell_type": "code",
      "execution_count": null,
      "metadata": {
        "id": "gJkkQAUsEBgT",
        "outputId": "5b1c8550-8bcc-4da0-bc84-7710874f112b"
      },
      "outputs": [
        {
          "data": {
            "text/plain": [
              "0       On 12/23/2021 I removed mg Hydromorphone from ...\n",
              "1       Patient was supposed to be with a care compani...\n",
              "2       Pt seen in burns Eval clinic. Pt sent home in ...\n",
              "3       found pt's left arm swollen and warm to touch....\n",
              "4       tip of syringe from surgiflo broke off and clo...\n",
              "                              ...                        \n",
              "5121    Admitted patient from ED via gurney, report re...\n",
              "5122    Employee states he was drawing blood on a pati...\n",
              "5123    Employee was walking into room 134 and slipped...\n",
              "5124    At around 0910, I was called to room 122. I wa...\n",
              "5125    Pt was brought to 4M 130 with PCA, from 6B. PC...\n",
              "Name: content, Length: 5126, dtype: object"
            ]
          },
          "execution_count": 29,
          "metadata": {},
          "output_type": "execute_result"
        }
      ],
      "source": [
        "df['content']"
      ]
    },
    {
      "cell_type": "code",
      "execution_count": null,
      "metadata": {
        "id": "5CXAHu3rEBgT"
      },
      "outputs": [],
      "source": [
        "tfidf = TfidfVectorizer(ngram_range=(1,3), max_features=3000)\n",
        "train_test = tfidf.fit_transform(x_train)\n",
        "test_test = tfidf.fit_transform(x_test)"
      ]
    },
    {
      "cell_type": "code",
      "execution_count": null,
      "metadata": {
        "id": "meMIKxI9EBgU"
      },
      "outputs": [],
      "source": [
        "x_all=tfidf.fit_transform(x)"
      ]
    },
    {
      "cell_type": "code",
      "execution_count": null,
      "metadata": {
        "id": "1gFejrB8EBgU",
        "outputId": "75c2f431-9274-4cfb-f033-7b0f9a20021f"
      },
      "outputs": [
        {
          "data": {
            "text/html": [
              "<style>#sk-container-id-1 {color: black;background-color: white;}#sk-container-id-1 pre{padding: 0;}#sk-container-id-1 div.sk-toggleable {background-color: white;}#sk-container-id-1 label.sk-toggleable__label {cursor: pointer;display: block;width: 100%;margin-bottom: 0;padding: 0.3em;box-sizing: border-box;text-align: center;}#sk-container-id-1 label.sk-toggleable__label-arrow:before {content: \"▸\";float: left;margin-right: 0.25em;color: #696969;}#sk-container-id-1 label.sk-toggleable__label-arrow:hover:before {color: black;}#sk-container-id-1 div.sk-estimator:hover label.sk-toggleable__label-arrow:before {color: black;}#sk-container-id-1 div.sk-toggleable__content {max-height: 0;max-width: 0;overflow: hidden;text-align: left;background-color: #f0f8ff;}#sk-container-id-1 div.sk-toggleable__content pre {margin: 0.2em;color: black;border-radius: 0.25em;background-color: #f0f8ff;}#sk-container-id-1 input.sk-toggleable__control:checked~div.sk-toggleable__content {max-height: 200px;max-width: 100%;overflow: auto;}#sk-container-id-1 input.sk-toggleable__control:checked~label.sk-toggleable__label-arrow:before {content: \"▾\";}#sk-container-id-1 div.sk-estimator input.sk-toggleable__control:checked~label.sk-toggleable__label {background-color: #d4ebff;}#sk-container-id-1 div.sk-label input.sk-toggleable__control:checked~label.sk-toggleable__label {background-color: #d4ebff;}#sk-container-id-1 input.sk-hidden--visually {border: 0;clip: rect(1px 1px 1px 1px);clip: rect(1px, 1px, 1px, 1px);height: 1px;margin: -1px;overflow: hidden;padding: 0;position: absolute;width: 1px;}#sk-container-id-1 div.sk-estimator {font-family: monospace;background-color: #f0f8ff;border: 1px dotted black;border-radius: 0.25em;box-sizing: border-box;margin-bottom: 0.5em;}#sk-container-id-1 div.sk-estimator:hover {background-color: #d4ebff;}#sk-container-id-1 div.sk-parallel-item::after {content: \"\";width: 100%;border-bottom: 1px solid gray;flex-grow: 1;}#sk-container-id-1 div.sk-label:hover label.sk-toggleable__label {background-color: #d4ebff;}#sk-container-id-1 div.sk-serial::before {content: \"\";position: absolute;border-left: 1px solid gray;box-sizing: border-box;top: 0;bottom: 0;left: 50%;z-index: 0;}#sk-container-id-1 div.sk-serial {display: flex;flex-direction: column;align-items: center;background-color: white;padding-right: 0.2em;padding-left: 0.2em;position: relative;}#sk-container-id-1 div.sk-item {position: relative;z-index: 1;}#sk-container-id-1 div.sk-parallel {display: flex;align-items: stretch;justify-content: center;background-color: white;position: relative;}#sk-container-id-1 div.sk-item::before, #sk-container-id-1 div.sk-parallel-item::before {content: \"\";position: absolute;border-left: 1px solid gray;box-sizing: border-box;top: 0;bottom: 0;left: 50%;z-index: -1;}#sk-container-id-1 div.sk-parallel-item {display: flex;flex-direction: column;z-index: 1;position: relative;background-color: white;}#sk-container-id-1 div.sk-parallel-item:first-child::after {align-self: flex-end;width: 50%;}#sk-container-id-1 div.sk-parallel-item:last-child::after {align-self: flex-start;width: 50%;}#sk-container-id-1 div.sk-parallel-item:only-child::after {width: 0;}#sk-container-id-1 div.sk-dashed-wrapped {border: 1px dashed gray;margin: 0 0.4em 0.5em 0.4em;box-sizing: border-box;padding-bottom: 0.4em;background-color: white;}#sk-container-id-1 div.sk-label label {font-family: monospace;font-weight: bold;display: inline-block;line-height: 1.2em;}#sk-container-id-1 div.sk-label-container {text-align: center;}#sk-container-id-1 div.sk-container {/* jupyter's `normalize.less` sets `[hidden] { display: none; }` but bootstrap.min.css set `[hidden] { display: none !important; }` so we also need the `!important` here to be able to override the default hidden behavior on the sphinx rendered scikit-learn.org. See: https://github.com/scikit-learn/scikit-learn/issues/21755 */display: inline-block !important;position: relative;}#sk-container-id-1 div.sk-text-repr-fallback {display: none;}</style><div id=\"sk-container-id-1\" class=\"sk-top-container\"><div class=\"sk-text-repr-fallback\"><pre>LogisticRegressionCV(max_iter=10000)</pre><b>In a Jupyter environment, please rerun this cell to show the HTML representation or trust the notebook. <br />On GitHub, the HTML representation is unable to render, please try loading this page with nbviewer.org.</b></div><div class=\"sk-container\" hidden><div class=\"sk-item\"><div class=\"sk-estimator sk-toggleable\"><input class=\"sk-toggleable__control sk-hidden--visually\" id=\"sk-estimator-id-1\" type=\"checkbox\" checked><label for=\"sk-estimator-id-1\" class=\"sk-toggleable__label sk-toggleable__label-arrow\">LogisticRegressionCV</label><div class=\"sk-toggleable__content\"><pre>LogisticRegressionCV(max_iter=10000)</pre></div></div></div></div></div>"
            ],
            "text/plain": [
              "LogisticRegressionCV(max_iter=10000)"
            ]
          },
          "execution_count": 9,
          "metadata": {},
          "output_type": "execute_result"
        }
      ],
      "source": [
        "from sklearn.linear_model import LogisticRegressionCV\n",
        "lrcv=LogisticRegressionCV(max_iter=10000)\n",
        "lrcv.fit(train_test,y_train)"
      ]
    },
    {
      "cell_type": "code",
      "execution_count": null,
      "metadata": {
        "id": "5Mm6Lg5AEBgV",
        "outputId": "211bfca3-af20-4a6a-c398-9e89b71992da"
      },
      "outputs": [
        {
          "name": "stdout",
          "output_type": "stream",
          "text": [
            "4100\n"
          ]
        }
      ],
      "source": [
        "train_preds = lrcv.predict(train_test)\n",
        "print(len(train_preds))"
      ]
    },
    {
      "cell_type": "code",
      "execution_count": null,
      "metadata": {
        "id": "pygdyn_TEBgV",
        "outputId": "1dd99fb2-8090-4968-ad83-d298f0264048"
      },
      "outputs": [
        {
          "data": {
            "text/plain": [
              "array([30, 12, 33, ..., 12,  3, 26])"
            ]
          },
          "execution_count": 14,
          "metadata": {},
          "output_type": "execute_result"
        }
      ],
      "source": [
        "lrcv.predict(test_test)"
      ]
    },
    {
      "cell_type": "code",
      "execution_count": null,
      "metadata": {
        "id": "yZT_1TvIEBgV"
      },
      "outputs": [],
      "source": [
        "y_predict = le.inverse_transform(lrcv.predict(test_test))"
      ]
    },
    {
      "cell_type": "code",
      "execution_count": null,
      "metadata": {
        "id": "yJFT74AvEBgW",
        "outputId": "19288053-7714-4b6e-f8d9-94f3abf9a58a"
      },
      "outputs": [
        {
          "data": {
            "text/html": [
              "<div>\n",
              "<style scoped>\n",
              "    .dataframe tbody tr th:only-of-type {\n",
              "        vertical-align: middle;\n",
              "    }\n",
              "\n",
              "    .dataframe tbody tr th {\n",
              "        vertical-align: top;\n",
              "    }\n",
              "\n",
              "    .dataframe thead th {\n",
              "        text-align: right;\n",
              "    }\n",
              "</style>\n",
              "<table border=\"1\" class=\"dataframe\">\n",
              "  <thead>\n",
              "    <tr style=\"text-align: right;\">\n",
              "      <th></th>\n",
              "      <th>labels</th>\n",
              "      <th>preds</th>\n",
              "    </tr>\n",
              "  </thead>\n",
              "  <tbody>\n",
              "    <tr>\n",
              "      <th>3254</th>\n",
              "      <td>15</td>\n",
              "      <td>30</td>\n",
              "    </tr>\n",
              "    <tr>\n",
              "      <th>2263</th>\n",
              "      <td>30</td>\n",
              "      <td>12</td>\n",
              "    </tr>\n",
              "    <tr>\n",
              "      <th>5043</th>\n",
              "      <td>7</td>\n",
              "      <td>33</td>\n",
              "    </tr>\n",
              "    <tr>\n",
              "      <th>1283</th>\n",
              "      <td>15</td>\n",
              "      <td>2</td>\n",
              "    </tr>\n",
              "    <tr>\n",
              "      <th>3754</th>\n",
              "      <td>33</td>\n",
              "      <td>7</td>\n",
              "    </tr>\n",
              "    <tr>\n",
              "      <th>...</th>\n",
              "      <td>...</td>\n",
              "      <td>...</td>\n",
              "    </tr>\n",
              "    <tr>\n",
              "      <th>2754</th>\n",
              "      <td>31</td>\n",
              "      <td>5</td>\n",
              "    </tr>\n",
              "    <tr>\n",
              "      <th>117</th>\n",
              "      <td>26</td>\n",
              "      <td>12</td>\n",
              "    </tr>\n",
              "    <tr>\n",
              "      <th>1392</th>\n",
              "      <td>3</td>\n",
              "      <td>12</td>\n",
              "    </tr>\n",
              "    <tr>\n",
              "      <th>4942</th>\n",
              "      <td>23</td>\n",
              "      <td>3</td>\n",
              "    </tr>\n",
              "    <tr>\n",
              "      <th>4959</th>\n",
              "      <td>15</td>\n",
              "      <td>26</td>\n",
              "    </tr>\n",
              "  </tbody>\n",
              "</table>\n",
              "<p>1026 rows × 2 columns</p>\n",
              "</div>"
            ],
            "text/plain": [
              "      labels  preds\n",
              "3254      15     30\n",
              "2263      30     12\n",
              "5043       7     33\n",
              "1283      15      2\n",
              "3754      33      7\n",
              "...      ...    ...\n",
              "2754      31      5\n",
              "117       26     12\n",
              "1392       3     12\n",
              "4942      23      3\n",
              "4959      15     26\n",
              "\n",
              "[1026 rows x 2 columns]"
            ]
          },
          "execution_count": 17,
          "metadata": {},
          "output_type": "execute_result"
        }
      ],
      "source": [
        "new_df1=pd.DataFrame()\n",
        "new_df1['labels'] = y_test\n",
        "new_df1['preds'] = lrcv.predict(test_test)\n",
        "new_df1"
      ]
    },
    {
      "cell_type": "code",
      "execution_count": null,
      "metadata": {
        "id": "2onPDEKAEBgW",
        "outputId": "416f088d-87da-44f4-ae9d-040ddd020b3b"
      },
      "outputs": [
        {
          "data": {
            "text/html": [
              "<div>\n",
              "<style scoped>\n",
              "    .dataframe tbody tr th:only-of-type {\n",
              "        vertical-align: middle;\n",
              "    }\n",
              "\n",
              "    .dataframe tbody tr th {\n",
              "        vertical-align: top;\n",
              "    }\n",
              "\n",
              "    .dataframe thead th {\n",
              "        text-align: right;\n",
              "    }\n",
              "</style>\n",
              "<table border=\"1\" class=\"dataframe\">\n",
              "  <thead>\n",
              "    <tr style=\"text-align: right;\">\n",
              "      <th></th>\n",
              "      <th>labels</th>\n",
              "      <th>preds</th>\n",
              "    </tr>\n",
              "  </thead>\n",
              "  <tbody>\n",
              "    <tr>\n",
              "      <th>0</th>\n",
              "      <td>Fall</td>\n",
              "      <td>Radiology / imaging test</td>\n",
              "    </tr>\n",
              "    <tr>\n",
              "      <th>1</th>\n",
              "      <td>Radiology / imaging test</td>\n",
              "      <td>Event relating to surgery or invasive procedure</td>\n",
              "    </tr>\n",
              "    <tr>\n",
              "      <th>2</th>\n",
              "      <td>Complications of care (unanticipated, non surg...</td>\n",
              "      <td>Skin integrity</td>\n",
              "    </tr>\n",
              "    <tr>\n",
              "      <th>3</th>\n",
              "      <td>Fall</td>\n",
              "      <td>Assault (Staff/Employee)</td>\n",
              "    </tr>\n",
              "    <tr>\n",
              "      <th>4</th>\n",
              "      <td>Skin integrity</td>\n",
              "      <td>Complications of care (unanticipated, non surg...</td>\n",
              "    </tr>\n",
              "    <tr>\n",
              "      <th>...</th>\n",
              "      <td>...</td>\n",
              "      <td>...</td>\n",
              "    </tr>\n",
              "    <tr>\n",
              "      <th>1021</th>\n",
              "      <td>Respiratory care</td>\n",
              "      <td>Care coordination / communication</td>\n",
              "    </tr>\n",
              "    <tr>\n",
              "      <th>1022</th>\n",
              "      <td>Medication related</td>\n",
              "      <td>Event relating to surgery or invasive procedure</td>\n",
              "    </tr>\n",
              "    <tr>\n",
              "      <th>1023</th>\n",
              "      <td>Behavioral event</td>\n",
              "      <td>Event relating to surgery or invasive procedure</td>\n",
              "    </tr>\n",
              "    <tr>\n",
              "      <th>1024</th>\n",
              "      <td>Laboratory test</td>\n",
              "      <td>Behavioral event</td>\n",
              "    </tr>\n",
              "    <tr>\n",
              "      <th>1025</th>\n",
              "      <td>Fall</td>\n",
              "      <td>Medication related</td>\n",
              "    </tr>\n",
              "  </tbody>\n",
              "</table>\n",
              "<p>1026 rows × 2 columns</p>\n",
              "</div>"
            ],
            "text/plain": [
              "                                                 labels  \\\n",
              "0                                                  Fall   \n",
              "1                              Radiology / imaging test   \n",
              "2     Complications of care (unanticipated, non surg...   \n",
              "3                                                  Fall   \n",
              "4                                        Skin integrity   \n",
              "...                                                 ...   \n",
              "1021                                   Respiratory care   \n",
              "1022                                 Medication related   \n",
              "1023                                   Behavioral event   \n",
              "1024                                    Laboratory test   \n",
              "1025                                               Fall   \n",
              "\n",
              "                                                  preds  \n",
              "0                              Radiology / imaging test  \n",
              "1       Event relating to surgery or invasive procedure  \n",
              "2                                        Skin integrity  \n",
              "3                              Assault (Staff/Employee)  \n",
              "4     Complications of care (unanticipated, non surg...  \n",
              "...                                                 ...  \n",
              "1021                  Care coordination / communication  \n",
              "1022    Event relating to surgery or invasive procedure  \n",
              "1023    Event relating to surgery or invasive procedure  \n",
              "1024                                   Behavioral event  \n",
              "1025                                 Medication related  \n",
              "\n",
              "[1026 rows x 2 columns]"
            ]
          },
          "execution_count": 18,
          "metadata": {},
          "output_type": "execute_result"
        }
      ],
      "source": [
        "new_df2=pd.DataFrame()\n",
        "new_df2['labels'] = le.inverse_transform(y_test)\n",
        "new_df2['preds'] = y_predict\n",
        "new_df2"
      ]
    },
    {
      "cell_type": "code",
      "execution_count": null,
      "metadata": {
        "id": "1UICYfuFEBgW",
        "outputId": "56f2e5fe-23ec-4923-ed70-6acb2051a058"
      },
      "outputs": [
        {
          "data": {
            "text/html": [
              "<div>\n",
              "<style scoped>\n",
              "    .dataframe tbody tr th:only-of-type {\n",
              "        vertical-align: middle;\n",
              "    }\n",
              "\n",
              "    .dataframe tbody tr th {\n",
              "        vertical-align: top;\n",
              "    }\n",
              "\n",
              "    .dataframe thead th {\n",
              "        text-align: right;\n",
              "    }\n",
              "</style>\n",
              "<table border=\"1\" class=\"dataframe\">\n",
              "  <thead>\n",
              "    <tr style=\"text-align: right;\">\n",
              "      <th></th>\n",
              "      <th>pred_total</th>\n",
              "      <th>test_total</th>\n",
              "    </tr>\n",
              "    <tr>\n",
              "      <th>preds</th>\n",
              "      <th></th>\n",
              "      <th></th>\n",
              "    </tr>\n",
              "  </thead>\n",
              "  <tbody>\n",
              "    <tr>\n",
              "      <th>Adverse reaction</th>\n",
              "      <td>4</td>\n",
              "      <td>40</td>\n",
              "    </tr>\n",
              "    <tr>\n",
              "      <th>Assault (Staff/Employee)</th>\n",
              "      <td>24</td>\n",
              "      <td>30</td>\n",
              "    </tr>\n",
              "    <tr>\n",
              "      <th>Behavioral event</th>\n",
              "      <td>26</td>\n",
              "      <td>65</td>\n",
              "    </tr>\n",
              "    <tr>\n",
              "      <th>Care coordination / communication</th>\n",
              "      <td>137</td>\n",
              "      <td>86</td>\n",
              "    </tr>\n",
              "    <tr>\n",
              "      <th>Complication of surgery or anesthesia</th>\n",
              "      <td>1</td>\n",
              "      <td>8</td>\n",
              "    </tr>\n",
              "    <tr>\n",
              "      <th>Complications of care (unanticipated, non surgical)</th>\n",
              "      <td>141</td>\n",
              "      <td>120</td>\n",
              "    </tr>\n",
              "    <tr>\n",
              "      <th>Disclosure of PHI</th>\n",
              "      <td>1</td>\n",
              "      <td>9</td>\n",
              "    </tr>\n",
              "    <tr>\n",
              "      <th>Equipment / devices</th>\n",
              "      <td>26</td>\n",
              "      <td>12</td>\n",
              "    </tr>\n",
              "    <tr>\n",
              "      <th>Event relating to surgery or invasive procedure</th>\n",
              "      <td>108</td>\n",
              "      <td>39</td>\n",
              "    </tr>\n",
              "    <tr>\n",
              "      <th>Fall</th>\n",
              "      <td>6</td>\n",
              "      <td>99</td>\n",
              "    </tr>\n",
              "    <tr>\n",
              "      <th>Fall (Staff and Visitor)</th>\n",
              "      <td>1</td>\n",
              "      <td>5</td>\n",
              "    </tr>\n",
              "    <tr>\n",
              "      <th>Infection control</th>\n",
              "      <td>4</td>\n",
              "      <td>18</td>\n",
              "    </tr>\n",
              "    <tr>\n",
              "      <th>Injury</th>\n",
              "      <td>1</td>\n",
              "      <td>8</td>\n",
              "    </tr>\n",
              "    <tr>\n",
              "      <th>Laboratory test</th>\n",
              "      <td>29</td>\n",
              "      <td>46</td>\n",
              "    </tr>\n",
              "    <tr>\n",
              "      <th>Medical records / patient identification</th>\n",
              "      <td>9</td>\n",
              "      <td>15</td>\n",
              "    </tr>\n",
              "    <tr>\n",
              "      <th>Medication related</th>\n",
              "      <td>120</td>\n",
              "      <td>65</td>\n",
              "    </tr>\n",
              "    <tr>\n",
              "      <th>Medication-related issues</th>\n",
              "      <td>1</td>\n",
              "      <td>16</td>\n",
              "    </tr>\n",
              "    <tr>\n",
              "      <th>Omission / errors in assessment, diagnosis, monitoring</th>\n",
              "      <td>16</td>\n",
              "      <td>21</td>\n",
              "    </tr>\n",
              "    <tr>\n",
              "      <th>Radiology / imaging test</th>\n",
              "      <td>56</td>\n",
              "      <td>69</td>\n",
              "    </tr>\n",
              "    <tr>\n",
              "      <th>Respiratory care</th>\n",
              "      <td>1</td>\n",
              "      <td>18</td>\n",
              "    </tr>\n",
              "    <tr>\n",
              "      <th>Security issues</th>\n",
              "      <td>1</td>\n",
              "      <td>6</td>\n",
              "    </tr>\n",
              "    <tr>\n",
              "      <th>Skin integrity</th>\n",
              "      <td>310</td>\n",
              "      <td>161</td>\n",
              "    </tr>\n",
              "    <tr>\n",
              "      <th>Staffing Issue</th>\n",
              "      <td>3</td>\n",
              "      <td>10</td>\n",
              "    </tr>\n",
              "  </tbody>\n",
              "</table>\n",
              "</div>"
            ],
            "text/plain": [
              "                                                    pred_total  test_total\n",
              "preds                                                                     \n",
              "Adverse reaction                                             4          40\n",
              "Assault (Staff/Employee)                                    24          30\n",
              "Behavioral event                                            26          65\n",
              "Care coordination / communication                          137          86\n",
              "Complication of surgery or anesthesia                        1           8\n",
              "Complications of care (unanticipated, non surgi...         141         120\n",
              "Disclosure of PHI                                            1           9\n",
              "Equipment / devices                                         26          12\n",
              "Event relating to surgery or invasive procedure            108          39\n",
              "Fall                                                         6          99\n",
              "Fall (Staff and Visitor)                                     1           5\n",
              "Infection control                                            4          18\n",
              "Injury                                                       1           8\n",
              "Laboratory test                                             29          46\n",
              "Medical records / patient identification                     9          15\n",
              "Medication related                                         120          65\n",
              "Medication-related issues                                    1          16\n",
              "Omission / errors in assessment, diagnosis, mon...          16          21\n",
              "Radiology / imaging test                                    56          69\n",
              "Respiratory care                                             1          18\n",
              "Security issues                                              1           6\n",
              "Skin integrity                                             310         161\n",
              "Staffing Issue                                               3          10"
            ]
          },
          "execution_count": 19,
          "metadata": {},
          "output_type": "execute_result"
        }
      ],
      "source": [
        "new_df3=pd.DataFrame()\n",
        "new_df3['pred_total']=new_df2.groupby('preds').count()\n",
        "new_df3['test_total']=new_df2.groupby('labels').count()\n",
        "new_df3"
      ]
    },
    {
      "cell_type": "code",
      "execution_count": null,
      "metadata": {
        "id": "CroeiaP_EBgX",
        "outputId": "33741361-86d5-41b7-d951-8cbd04579fac"
      },
      "outputs": [
        {
          "name": "stdout",
          "output_type": "stream",
          "text": [
            "Accuracy:74.95 %\n",
            "Standard Deviation:1.20 %\n"
          ]
        }
      ],
      "source": [
        "from sklearn.model_selection import cross_val_score\n",
        "accuracies=cross_val_score(estimator=lrcv,X=train_test,y=y_train,cv=6)\n",
        "print(\"Accuracy:{:.2f} %\".format(accuracies.mean()*100))\n",
        "print(\"Standard Deviation:{:.2f} %\".format(accuracies.std()*100))"
      ]
    },
    {
      "cell_type": "code",
      "execution_count": null,
      "metadata": {
        "id": "xu6tpK0hEBgX"
      },
      "outputs": [],
      "source": [
        "df2 = pd.read_csv('/Users/jessiding/Downloads/SIData2022-2.csv')"
      ]
    },
    {
      "cell_type": "code",
      "execution_count": null,
      "metadata": {
        "id": "o_6q5lPJEBgX"
      },
      "outputs": [],
      "source": [
        "x_original=df2['content'].apply(lambda x: processing_sentence(x, stop_words))"
      ]
    },
    {
      "cell_type": "code",
      "execution_count": null,
      "metadata": {
        "id": "AQiinpvkEBgY"
      },
      "outputs": [],
      "source": [
        "x_original=tfidf.fit_transform(x_original)"
      ]
    },
    {
      "cell_type": "code",
      "execution_count": null,
      "metadata": {
        "id": "yHrgv1zxEBgY",
        "outputId": "b579eca1-5fd5-44b8-9ea6-0a4e2d08149a"
      },
      "outputs": [
        {
          "data": {
            "text/plain": [
              "array(['Skin integrity',\n",
              "       'Complications of care (unanticipated, non surgical)',\n",
              "       'Behavioral event', ..., 'Fall', 'Skin integrity',\n",
              "       'Skin integrity'], dtype=object)"
            ]
          },
          "execution_count": 82,
          "metadata": {},
          "output_type": "execute_result"
        }
      ],
      "source": [
        "y_original"
      ]
    },
    {
      "cell_type": "code",
      "execution_count": null,
      "metadata": {
        "id": "Jbb-Pq0REBgY"
      },
      "outputs": [],
      "source": [
        "from sklearn.preprocessing import LabelEncoder \n",
        "y_original=le.inverse_transform(lrcv.predict(x_original))"
      ]
    },
    {
      "cell_type": "code",
      "execution_count": null,
      "metadata": {
        "id": "oNzSJUfbEBgY"
      },
      "outputs": [],
      "source": [
        "le=LabelEncoder()\n",
        "df2['label']=le.fit_transform(le.fit_transform(df2['label']))"
      ]
    },
    {
      "cell_type": "code",
      "execution_count": null,
      "metadata": {
        "id": "z5ehY8w0EBgZ",
        "outputId": "c7be2ef1-6d72-415b-9dad-5339dcf8683b"
      },
      "outputs": [
        {
          "data": {
            "text/plain": [
              "0       29\n",
              "1       34\n",
              "2       38\n",
              "3       34\n",
              "4       29\n",
              "        ..\n",
              "6189    15\n",
              "6190    34\n",
              "6191    18\n",
              "6192     3\n",
              "6193    29\n",
              "Name: label, Length: 6194, dtype: int64"
            ]
          },
          "execution_count": 59,
          "metadata": {},
          "output_type": "execute_result"
        }
      ],
      "source": [
        "df2['label']"
      ]
    },
    {
      "cell_type": "code",
      "execution_count": null,
      "metadata": {
        "id": "RpbCFwHbEBgZ"
      },
      "outputs": [],
      "source": [
        "x_original=df2['Description']\n"
      ]
    },
    {
      "cell_type": "code",
      "execution_count": null,
      "metadata": {
        "id": "5yFYiC7iEBgZ"
      },
      "outputs": [],
      "source": [
        "df2['predictions'] = y_original"
      ]
    },
    {
      "cell_type": "code",
      "execution_count": null,
      "metadata": {
        "id": "uUA2GPaeEBgZ",
        "outputId": "e8fa6c4a-cee8-4004-8561-8445a61405f2"
      },
      "outputs": [
        {
          "data": {
            "text/html": [
              "<div>\n",
              "<style scoped>\n",
              "    .dataframe tbody tr th:only-of-type {\n",
              "        vertical-align: middle;\n",
              "    }\n",
              "\n",
              "    .dataframe tbody tr th {\n",
              "        vertical-align: top;\n",
              "    }\n",
              "\n",
              "    .dataframe thead th {\n",
              "        text-align: right;\n",
              "    }\n",
              "</style>\n",
              "<table border=\"1\" class=\"dataframe\">\n",
              "  <thead>\n",
              "    <tr style=\"text-align: right;\">\n",
              "      <th></th>\n",
              "      <th>label</th>\n",
              "      <th>content</th>\n",
              "      <th>predictions</th>\n",
              "    </tr>\n",
              "  </thead>\n",
              "  <tbody>\n",
              "    <tr>\n",
              "      <th>0</th>\n",
              "      <td>Medication related</td>\n",
              "      <td>On 12/23/2021 I removed mg Hydromorphone from ...</td>\n",
              "      <td>Skin integrity</td>\n",
              "    </tr>\n",
              "    <tr>\n",
              "      <th>1</th>\n",
              "      <td>Other / miscellaneous</td>\n",
              "      <td>PT requested to go AMA to handle personal busi...</td>\n",
              "      <td>Complications of care (unanticipated, non surg...</td>\n",
              "    </tr>\n",
              "    <tr>\n",
              "      <th>2</th>\n",
              "      <td>Skin integrity</td>\n",
              "      <td>Patient was supposed to be with a care compani...</td>\n",
              "      <td>Behavioral event</td>\n",
              "    </tr>\n",
              "    <tr>\n",
              "      <th>3</th>\n",
              "      <td>Other / miscellaneous</td>\n",
              "      <td>Patient alert and oriented x4 and able to make...</td>\n",
              "      <td>Care coordination / communication</td>\n",
              "    </tr>\n",
              "    <tr>\n",
              "      <th>4</th>\n",
              "      <td>Medication related</td>\n",
              "      <td>Pt seen in burns Eval clinic. Pt sent home in ...</td>\n",
              "      <td>Complications of care (unanticipated, non surg...</td>\n",
              "    </tr>\n",
              "    <tr>\n",
              "      <th>...</th>\n",
              "      <td>...</td>\n",
              "      <td>...</td>\n",
              "      <td>...</td>\n",
              "    </tr>\n",
              "    <tr>\n",
              "      <th>6189</th>\n",
              "      <td>Exposure to blood or body fluids</td>\n",
              "      <td>Employee states he was drawing blood on a pati...</td>\n",
              "      <td>Care coordination / communication</td>\n",
              "    </tr>\n",
              "    <tr>\n",
              "      <th>6190</th>\n",
              "      <td>Other / miscellaneous</td>\n",
              "      <td>At 08.20 the pt tray to push2 of  the exit doo...</td>\n",
              "      <td>Skin integrity</td>\n",
              "    </tr>\n",
              "    <tr>\n",
              "      <th>6191</th>\n",
              "      <td>Fall (Staff and Visitor)</td>\n",
              "      <td>Employee was walking into room 134 and slipped...</td>\n",
              "      <td>Fall</td>\n",
              "    </tr>\n",
              "    <tr>\n",
              "      <th>6192</th>\n",
              "      <td>Assault (Staff/Employee)</td>\n",
              "      <td>At around 0910, I was called to room 122. I wa...</td>\n",
              "      <td>Skin integrity</td>\n",
              "    </tr>\n",
              "    <tr>\n",
              "      <th>6193</th>\n",
              "      <td>Medication related</td>\n",
              "      <td>Pt was brought to 4M 130 with PCA, from 6B. PC...</td>\n",
              "      <td>Skin integrity</td>\n",
              "    </tr>\n",
              "  </tbody>\n",
              "</table>\n",
              "<p>6194 rows × 3 columns</p>\n",
              "</div>"
            ],
            "text/plain": [
              "                                 label  \\\n",
              "0                   Medication related   \n",
              "1                Other / miscellaneous   \n",
              "2                       Skin integrity   \n",
              "3                Other / miscellaneous   \n",
              "4                   Medication related   \n",
              "...                                ...   \n",
              "6189  Exposure to blood or body fluids   \n",
              "6190             Other / miscellaneous   \n",
              "6191          Fall (Staff and Visitor)   \n",
              "6192          Assault (Staff/Employee)   \n",
              "6193                Medication related   \n",
              "\n",
              "                                                content  \\\n",
              "0     On 12/23/2021 I removed mg Hydromorphone from ...   \n",
              "1     PT requested to go AMA to handle personal busi...   \n",
              "2     Patient was supposed to be with a care compani...   \n",
              "3     Patient alert and oriented x4 and able to make...   \n",
              "4     Pt seen in burns Eval clinic. Pt sent home in ...   \n",
              "...                                                 ...   \n",
              "6189  Employee states he was drawing blood on a pati...   \n",
              "6190  At 08.20 the pt tray to push2 of  the exit doo...   \n",
              "6191  Employee was walking into room 134 and slipped...   \n",
              "6192  At around 0910, I was called to room 122. I wa...   \n",
              "6193  Pt was brought to 4M 130 with PCA, from 6B. PC...   \n",
              "\n",
              "                                            predictions  \n",
              "0                                        Skin integrity  \n",
              "1     Complications of care (unanticipated, non surg...  \n",
              "2                                      Behavioral event  \n",
              "3                     Care coordination / communication  \n",
              "4     Complications of care (unanticipated, non surg...  \n",
              "...                                                 ...  \n",
              "6189                  Care coordination / communication  \n",
              "6190                                     Skin integrity  \n",
              "6191                                               Fall  \n",
              "6192                                     Skin integrity  \n",
              "6193                                     Skin integrity  \n",
              "\n",
              "[6194 rows x 3 columns]"
            ]
          },
          "execution_count": 84,
          "metadata": {},
          "output_type": "execute_result"
        }
      ],
      "source": [
        "df2"
      ]
    },
    {
      "cell_type": "code",
      "execution_count": null,
      "metadata": {
        "id": "g0YPG-5nEBga"
      },
      "outputs": [],
      "source": [
        "df2.to_csv('/Users/jessiding/Downloads/SIData2022-2的副本.csv',index=False,sep=',')"
      ]
    }
  ],
  "metadata": {
    "kernelspec": {
      "display_name": "Python 3",
      "language": "python",
      "name": "python3"
    },
    "language_info": {
      "codemirror_mode": {
        "name": "ipython",
        "version": 3
      },
      "file_extension": ".py",
      "mimetype": "text/x-python",
      "name": "python",
      "nbconvert_exporter": "python",
      "pygments_lexer": "ipython3",
      "version": "3.8.5"
    },
    "colab": {
      "provenance": [],
      "include_colab_link": true
    }
  },
  "nbformat": 4,
  "nbformat_minor": 0
}